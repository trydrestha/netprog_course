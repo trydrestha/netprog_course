{
 "cells": [
  {
   "cell_type": "markdown",
   "metadata": {},
   "source": [
    "NIM           : .....\n",
    "\n",
    "NAMA LENGKAP  : ....."
   ]
  },
  {
   "cell_type": "code",
   "execution_count": null,
   "metadata": {},
   "outputs": [],
   "source": [
    "NIM : 190010183\n",
    "NAMA LENGKAP : I NYOMAN TRIYADI RESTHA"
   ]
  },
  {
   "cell_type": "markdown",
   "metadata": {},
   "source": [
    "### Latihan\n",
    "\n",
    "Instruksi pengerjaan:\n",
    "- Tulis kode program di tempat yang sudah disediakan\n",
    "- Jangan menambah, menghapus, ataupun memodifikasi kode program yang sudah secara _default_ tersedia."
   ]
  },
  {
   "cell_type": "code",
   "execution_count": 24,
   "metadata": {},
   "outputs": [],
   "source": [
    "# Import library yang diperlukan di sini\n",
    "from urllib.request import urlopen\n",
    "from urllib.error import HTTPError\n",
    "from urllib.error import URLError\n",
    "from bs4 import BeautifulSoup\n"
   ]
  },
  {
   "cell_type": "code",
   "execution_count": 25,
   "metadata": {},
   "outputs": [],
   "source": [
    "url = {'url1': 'http://www.pythonscraping.com/pages/page1.html',\n",
    "       'url2': 'http://www.pythonscraping.com/pages/warandpeace.html',\n",
    "       'url3': 'http://www.pythonscraping.com/pages/page3.html'}"
   ]
  },
  {
   "cell_type": "code",
   "execution_count": 26,
   "metadata": {},
   "outputs": [],
   "source": [
    "def read_html(url):\n",
    "    \"\"\" \n",
    "    url         : Website URL yang akan di-parsing\n",
    "    html_parser : Tipe HTML parser yang akan digunakan\n",
    "    \"\"\"\n",
    "    try:\n",
    "        html = urlopen(url).read()\n",
    "        bsObj = BeautifulSoup(html,'html.parser') \n",
    "    except HTTPError as e:\n",
    "        print('The server returned an HTTP error') \n",
    "    except URLError as e:\n",
    "        print('The server could not be found!') \n",
    "    except AttributeError as e:\n",
    "        return None\n",
    "    \n",
    "    return bsObj"
   ]
  },
  {
   "cell_type": "code",
   "execution_count": 45,
   "metadata": {},
   "outputs": [
    {
     "output_type": "stream",
     "name": "stdout",
     "text": "Anna\nPavlovna Scherer\nEmpress Marya\nFedorovna\nPrince Vasili Kuragin\nAnna Pavlovna\nSt. Petersburg\nthe prince\nAnna Pavlovna\nAnna Pavlovna\nthe prince\nthe prince\nthe prince\nPrince Vasili\nAnna Pavlovna\nAnna Pavlovna\nthe prince\nWintzingerode\nKing of Prussia\nle Vicomte de Mortemart\nMontmorencys\nRohans\nAbbe Morio\nthe Emperor\nthe prince\nPrince Vasili\nDowager Empress Marya Fedorovna\nthe baron\nAnna Pavlovna\nthe Empress\nthe Empress\nAnna Pavlovna's\nHer Majesty\nBaron\nFunke\nThe prince\nAnna\nPavlovna\nthe Empress\nThe prince\nAnatole\nthe prince\nThe prince\nAnna\nPavlovna\nAnna Pavlovna\n[]\n[]\n"
    }
   ],
   "source": [
    "\n",
    "obj = read_html(url['url2'])\n",
    "nameList = obj.find_all('span', {'class': 'green'}) \n",
    "# Scraping all text in tag span, with class='green'\n",
    "# Simpan text di dalam sebuah list 'namelist'\n",
    "for name in nameList:\n",
    "    print(name.get_text())\n",
    "\n",
    "# Dari list tersebut kemudian ambil text yang bersifat unik saja\n",
    "#uniquename = data\n",
    "\n",
    "print(namelist[:3])\n",
    "print(uniquename[:3])\n",
    "\n",
    "# Output yang seharusnya:\n",
    "# ['Anna\\nPavlovna Scherer', 'Empress Marya\\nFedorovna', 'Prince Vasili Kuragin']\n",
    "# ['The prince', 'Anna Pavlovna', 'the Empress']"
   ]
  },
  {
   "cell_type": "code",
   "execution_count": null,
   "metadata": {},
   "outputs": [],
   "source": [
    "# Hapus karakter \"\\n\" yang terdapat di dalam 'namelist'\n",
    "# Tulis kode program di sini\n",
    "\n",
    "\n",
    "print(namelist[:3])\n",
    "\n",
    "# Output yang seharusnya:\n",
    "# ['Anna Pavlovna Scherer', 'Empress Marya Fedorovna', 'Prince Vasili Kuragin']"
   ]
  },
  {
   "cell_type": "code",
   "execution_count": null,
   "metadata": {},
   "outputs": [],
   "source": [
    "# Di dalam objek 'uniquename', print nama yang panjangnya tidak lebih dari 8 karakter\n",
    "filtered = # Tulis kode program di sini\n",
    "result_list = list(# Tulis kode program di sini)\n",
    "print(result_list)\n",
    "    \n",
    "# Output yang seharusnya:\n",
    "# ['Anatole', 'Rohans']"
   ]
  },
  {
   "cell_type": "code",
   "execution_count": null,
   "metadata": {},
   "outputs": [],
   "source": []
  }
 ],
 "metadata": {
  "kernelspec": {
   "display_name": "Python 3",
   "language": "python",
   "name": "python3"
  },
  "language_info": {
   "codemirror_mode": {
    "name": "ipython",
    "version": 3
   },
   "file_extension": ".py",
   "mimetype": "text/x-python",
   "name": "python",
   "nbconvert_exporter": "python",
   "pygments_lexer": "ipython3",
   "version": "3.8.2"
  }
 },
 "nbformat": 4,
 "nbformat_minor": 4
}